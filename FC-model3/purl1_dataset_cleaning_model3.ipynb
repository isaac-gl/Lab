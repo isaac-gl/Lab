{
 "cells": [
  {
   "cell_type": "code",
   "execution_count": 13,
   "metadata": {},
   "outputs": [],
   "source": [
    "import pandas as pd\n",
    "import numpy as np\n",
    "import ffmpy\n",
    "import os\n",
    "import glob\n",
    "from datetime import datetime"
   ]
  },
  {
   "cell_type": "code",
   "execution_count": 14,
   "metadata": {},
   "outputs": [
    {
     "name": "stderr",
     "output_type": "stream",
     "text": [
      "C:\\Users\\Vijay\\Anaconda3\\lib\\site-packages\\IPython\\core\\interactiveshell.py:2698: DtypeWarning: Columns (1,3,10,12,14,24) have mixed types. Specify dtype option on import or set low_memory=False.\n",
      "  interactivity=interactivity, compiler=compiler, result=result)\n"
     ]
    }
   ],
   "source": [
    "df1 = pd.read_csv(\"C:/Users/Vijay/Isaac/Issac Video/Working_code_on_training_vedios/FC-model3/FACS_PURL_1_Data_final.xlsx.csv\")"
   ]
  },
  {
   "cell_type": "code",
   "execution_count": 15,
   "metadata": {},
   "outputs": [],
   "source": [
    "#df1"
   ]
  },
  {
   "cell_type": "code",
   "execution_count": 16,
   "metadata": {},
   "outputs": [],
   "source": [
    "def tm_res(df1,videoID,Con):\n",
    "    FMT = '%H:%M:%S'\n",
    "    newdf = df1[df1.columns[0:4]]                  \n",
    "    new_df1 = newdf.loc[newdf['ID'] == videoID].loc[newdf['Con'] == Con]\n",
    "    #t1 = new_df1['Time'][new_df1['Time'].index[0]]\n",
    "    #t2 = new_df1['Time'][new_df1.shape[0]-1]\n",
    "    t2_init = ''\n",
    "    t_init=''\n",
    "    t1 = new_df1['Time'].iloc[0]\n",
    "    t2 = new_df1['Time'].iloc[-1]\n",
    "    t2_splt = str(t2).split('.')\n",
    "    t1_splt = str(t1).split('.')\n",
    "    if len(t2_splt) > 1:\n",
    "        if len(t2_splt[0])==1:\n",
    "            t2_splt[0] = '0'+t2_splt[0]\n",
    "        elif t2_splt[0] == '':\n",
    "            t2_splt[0] = '00'\n",
    "        if len(t2_splt[1])==1:\n",
    "            t2_splt[1] = t2_splt[1]+'0'\n",
    "        t2_init = '00:'+t2_splt[0]+':'+t2_splt[1]\n",
    "    elif len(t2_splt) == 1:\n",
    "        if len(t2_splt[0]) == 1:\n",
    "            t2_splt[0] = '0'+t2_splt[0]+':00'\n",
    "            t2_init = '00:'+t2_splt[0]\n",
    "        else:\n",
    "            t2_init = '00:'+t2_splt[0]+':00'\n",
    "\n",
    "    if len(t1_splt)>1:\n",
    "        if len(t1_splt[0])==1:\n",
    "            t1_splt[0] = '0'+t1_splt[0]\n",
    "        elif t1_splt[0] == '':\n",
    "            t1_splt[0] = '00'\n",
    "        if len(t1_splt[1])==1:\n",
    "            t1_splt[1] = t1_splt[1]+'0'\n",
    "        t_init = '00:'+t1_splt[0]+':'+t1_splt[1]\n",
    "    elif len(t1_splt) == 1:\n",
    "        if len(t1_splt[0]) == 1:\n",
    "            t1_splt[0] = '0'+t1_splt[0]+':00'\n",
    "            t_init = '00:'+t1_splt[0]\n",
    "        else:\n",
    "            t_init = '00:'+t1_splt[0]+':00'\n",
    "            \n",
    "    tdelta = datetime.strptime(t2_init, FMT) - datetime.strptime(t_init, FMT)\n",
    "    t = str(tdelta).split(':')\n",
    "    t_final = '00:' + t[1] + ':' + t[2]\n",
    "    \n",
    "    return t_init,t_final"
   ]
  },
  {
   "cell_type": "code",
   "execution_count": 17,
   "metadata": {},
   "outputs": [],
   "source": [
    "#t_init,t_final = tm_res(df1,'B2006',1)\n"
   ]
  },
  {
   "cell_type": "code",
   "execution_count": 18,
   "metadata": {},
   "outputs": [],
   "source": [
    "data_path = 'C:/Users/Vijay/Isaac/Issac Video/Working_code_on_training_vedios/FC-model3/PURL 1 Data'\n",
    "data_path1 = 'C:/Users/Vijay/Isaac/Issac Video/Working_code_on_training_vedios'\n",
    "filenames = [file for file in glob.glob(data_path + '*/*')] \n",
    "#onlyfiles = [f for f in os.listdir(data_path) if os.path.isfile(os.path.join(data_path, f))]\n",
    "#output = 'C:/Users/Vijay/Isaac/Issac Video/Working_code_on_training_vedios/FC-model3/PURL 1 Data/out.wmv'\n"
   ]
  },
  {
   "cell_type": "code",
   "execution_count": 20,
   "metadata": {},
   "outputs": [
    {
     "data": {
      "text/plain": [
       "'t_init,t_final = tm_res(df1,\"B2243\",1)\\nt_final'"
      ]
     },
     "execution_count": 20,
     "metadata": {},
     "output_type": "execute_result"
    }
   ],
   "source": [
    "for i in range(len(filenames)):\n",
    "    out_spt = filenames[i].split('/')[len(filenames[i].split('/'))-1].split('_')[0]\n",
    "    out_spt = out_spt.split('\\\\')[len(out_spt.split('\\\\'))-1]\n",
    "    out_spt1 = os.path.join(data_path, out_spt)\n",
    "    os.mkdir(out_spt1)\n",
    "    for j in range(1,5):\n",
    "        output_f = os.path.join(out_spt1, out_spt+'_'+str(j)+'.wmv')\n",
    "        t_init,t_final = tm_res(df1,out_spt,j)\n",
    "        ff = ffmpy.FFmpeg(inputs={filenames[i]: None}, outputs={output_f: '-ss %s -t %s -c copy' % (t_init,t_final)})\n",
    "        os.popen(ff.cmd)\n",
    "\"\"\"t_init,t_final = tm_res(df1,\"B2243\",1)\n",
    "t_final\"\"\""
   ]
  },
  {
   "cell_type": "code",
   "execution_count": 103,
   "metadata": {},
   "outputs": [],
   "source": [
    "#ff = ffmpy.FFmpeg(inputs={filename: None}, outputs={output: '-ss %s -t %s -c copy' % (t_init,t_final)})"
   ]
  },
  {
   "cell_type": "code",
   "execution_count": 110,
   "metadata": {},
   "outputs": [
    {
     "data": {
      "text/plain": [
       "<os._wrap_close at 0x1db4af66048>"
      ]
     },
     "execution_count": 110,
     "metadata": {},
     "output_type": "execute_result"
    }
   ],
   "source": [
    "#os.popen(ff.cmd)"
   ]
  },
  {
   "cell_type": "code",
   "execution_count": null,
   "metadata": {},
   "outputs": [],
   "source": []
  },
  {
   "cell_type": "code",
   "execution_count": null,
   "metadata": {},
   "outputs": [],
   "source": []
  },
  {
   "cell_type": "code",
   "execution_count": null,
   "metadata": {
    "collapsed": true
   },
   "outputs": [],
   "source": []
  }
 ],
 "metadata": {
  "kernelspec": {
   "display_name": "Python 3",
   "language": "python",
   "name": "python3"
  },
  "language_info": {
   "codemirror_mode": {
    "name": "ipython",
    "version": 3
   },
   "file_extension": ".py",
   "mimetype": "text/x-python",
   "name": "python",
   "nbconvert_exporter": "python",
   "pygments_lexer": "ipython3",
   "version": "3.6.3"
  }
 },
 "nbformat": 4,
 "nbformat_minor": 2
}
