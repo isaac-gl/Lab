{
 "cells": [
  {
   "cell_type": "code",
   "execution_count": 1,
   "metadata": {
    "collapsed": true
   },
   "outputs": [],
   "source": [
    "import pandas as pd\n",
    "import numpy as np\n",
    "import ffmpy\n",
    "import os\n",
    "import glob\n",
    "from datetime import datetime\n",
    "from os import listdir\n",
    "from os.path import isfile, join"
   ]
  },
  {
   "cell_type": "code",
   "execution_count": 2,
   "metadata": {},
   "outputs": [
    {
     "name": "stderr",
     "output_type": "stream",
     "text": [
      "C:\\Users\\Vijay\\Anaconda3\\lib\\site-packages\\IPython\\core\\interactiveshell.py:2698: DtypeWarning: Columns (3,4,5,6,7,8,9,10,11,12,13,14,16,18,19,20,21) have mixed types. Specify dtype option on import or set low_memory=False.\n",
      "  interactivity=interactivity, compiler=compiler, result=result)\n"
     ]
    }
   ],
   "source": [
    "#Excel sheet which contains FACS ENCODING FOR ALL THE VIDEO'S\n",
    "df1 = pd.read_csv(\"C:/Users/Vijay/Isaac/Issac Video/Working_code_on_training_vedios/purl2_coding/purl2_data_final.csv\")"
   ]
  },
  {
   "cell_type": "code",
   "execution_count": 3,
   "metadata": {
    "collapsed": true
   },
   "outputs": [],
   "source": [
    "df1['Timecode'] = df1['Timecode'].astype(object)"
   ]
  },
  {
   "cell_type": "code",
   "execution_count": 4,
   "metadata": {
    "collapsed": true
   },
   "outputs": [],
   "source": [
    "#df1"
   ]
  },
  {
   "cell_type": "code",
   "execution_count": 5,
   "metadata": {
    "collapsed": true
   },
   "outputs": [],
   "source": [
    "#Function that converts the time column into specific time format which is required to break video's for ffmpy library\n",
    "def tm_res(df1,videoID,Con):\n",
    "    FMT = '%H:%M:%S'\n",
    "    newdf = df1[df1.columns[0:4]]                  \n",
    "    new_df1 = newdf.loc[newdf['ID_val'] == videoID].loc[newdf['Con'] == Con]\n",
    "    #t1 = new_df1['Time'][new_df1['Time'].index[0]]\n",
    "    #t2 = new_df1['Time'][new_df1.shape[0]-1]\n",
    "    t2_init = ''\n",
    "    t_init=''\n",
    "    t1 = new_df1['Timecode'].iloc[0]\n",
    "    t2 = new_df1['Timecode'].iloc[-1]\n",
    "    t2_splt = str(t2).split('.')\n",
    "    t1_splt = str(t1).split('.')\n",
    "    if len(t2_splt) > 1:\n",
    "        if len(t2_splt[0])==1:\n",
    "            t2_splt[0] = '0'+t2_splt[0]\n",
    "        elif t2_splt[0] == '':\n",
    "            t2_splt[0] = '00'\n",
    "        if len(t2_splt[1])==1:\n",
    "            t2_splt[1] = t2_splt[1]+'0'\n",
    "        t2_init = '00:'+t2_splt[0]+':'+t2_splt[1]\n",
    "    elif len(t2_splt) == 1:\n",
    "        if len(t2_splt[0]) == 1:\n",
    "            t2_splt[0] = '0'+t2_splt[0]+':00'\n",
    "            t2_init = '00:'+t2_splt[0]\n",
    "        else:\n",
    "            t2_init = '00:'+t2_splt[0]+':00'\n",
    "\n",
    "    if len(t1_splt)>1:\n",
    "        if len(t1_splt[0])==1:\n",
    "            t1_splt[0] = '0'+t1_splt[0]\n",
    "        elif t1_splt[0] == '':\n",
    "            t1_splt[0] = '00'\n",
    "        if len(t1_splt[1])==1:\n",
    "            t1_splt[1] = t1_splt[1]+'0'\n",
    "        t_init = '00:'+t1_splt[0]+':'+t1_splt[1]\n",
    "    elif len(t1_splt) == 1:\n",
    "        if len(t1_splt[0]) == 1:\n",
    "            t1_splt[0] = '0'+t1_splt[0]+':00'\n",
    "            t_init = '00:'+t1_splt[0]\n",
    "        else:\n",
    "            t_init = '00:'+t1_splt[0]+':00'\n",
    "            \n",
    "    tdelta = datetime.strptime(t2_init, FMT) - datetime.strptime(t_init, FMT)\n",
    "    t = str(tdelta).split(':')\n",
    "    t_final = '00:' + t[1] + ':' + t[2]\n",
    "    \n",
    "    return t_init,t_final"
   ]
  },
  {
   "cell_type": "code",
   "execution_count": 6,
   "metadata": {
    "collapsed": true
   },
   "outputs": [],
   "source": [
    "#Location where all the video's are available\n",
    "data_path = 'C:/Users/Vijay/Isaac/Issac Video/Working_code_on_training_vedios/purl2 video/Session 1'\n",
    "filenames = [file for file in glob.glob(data_path + '*/*')] "
   ]
  },
  {
   "cell_type": "code",
   "execution_count": 21,
   "metadata": {},
   "outputs": [
    {
     "name": "stdout",
     "output_type": "stream",
     "text": [
      "C:/Users/Vijay/Isaac/Issac Video/Working_code_on_training_vedios/purl2 video/Session 1\\P1441\n",
      "C:/Users/Vijay/Isaac/Issac Video/Working_code_on_training_vedios/purl2 video/Session 1\\P1443\n",
      "C:/Users/Vijay/Isaac/Issac Video/Working_code_on_training_vedios/purl2 video/Session 1\\P1446\n",
      "C:/Users/Vijay/Isaac/Issac Video/Working_code_on_training_vedios/purl2 video/Session 1\\P1452\n"
     ]
    }
   ],
   "source": [
    "#code to break the video's according to the interview timing's\n",
    "#And store it to the specific location\n",
    "for i in range(len(filenames)):\n",
    "    out_spt = filenames[i].split('/')[len(filenames[i].split('/'))-1].split('_')[0]\n",
    "    out_spt = out_spt.split('\\\\')[len(out_spt.split('\\\\'))-1]\n",
    "    if out_spt != 'Session 1':\n",
    "        out_spt1 = os.path.join(data_path, out_spt)\n",
    "        print(out_spt1)\n",
    "        break_path = 'C:/Users/Vijay/Isaac/Issac Video/Working_code_on_training_vedios/purl2 video/final videos/'\n",
    "        os.mkdir(break_path+out_spt)\n",
    "        onlyfiles = [f for f in listdir(filenames[i]) if isfile(join(filenames[i], f))]\n",
    "        fn_nm = filenames[i]+'/'+onlyfiles[0]\n",
    "        for j in range(1,5):\n",
    "            output_f = os.path.join(break_path+out_spt, out_spt+'_'+str(j)+'.mov')\n",
    "            t_init,t_final = tm_res(df1,out_spt,j)\n",
    "            #print(t_init + \"  \" + t_final)\n",
    "            ff = ffmpy.FFmpeg(inputs={fn_nm: None}, outputs={output_f: '-ss %s -t %s -c copy' % (t_init,t_final)})\n",
    "            #print(fn_nm)\n",
    "            os.popen(ff.cmd)\n"
   ]
  },
  {
   "cell_type": "code",
   "execution_count": 192,
   "metadata": {
    "collapsed": true
   },
   "outputs": [],
   "source": [
    "#command to split video's \n",
    "#ffmpeg -i B2019_SSI2.wmv -ss 00:19:28 -t 00:03:34 -c copy out.wmv"
   ]
  },
  {
   "cell_type": "code",
   "execution_count": null,
   "metadata": {
    "collapsed": true
   },
   "outputs": [],
   "source": []
  },
  {
   "cell_type": "code",
   "execution_count": null,
   "metadata": {
    "collapsed": true
   },
   "outputs": [],
   "source": []
  }
 ],
 "metadata": {
  "kernelspec": {
   "display_name": "Python 3",
   "language": "python",
   "name": "python3"
  },
  "language_info": {
   "codemirror_mode": {
    "name": "ipython",
    "version": 3
   },
   "file_extension": ".py",
   "mimetype": "text/x-python",
   "name": "python",
   "nbconvert_exporter": "python",
   "pygments_lexer": "ipython3",
   "version": "3.6.3"
  }
 },
 "nbformat": 4,
 "nbformat_minor": 2
}
